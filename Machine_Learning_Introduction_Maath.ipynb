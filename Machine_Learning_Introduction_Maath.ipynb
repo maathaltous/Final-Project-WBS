{
  "cells": [
    {
      "cell_type": "markdown",
      "id": "346bb310-17f8-47e1-b168-183181887d7d",
      "metadata": {
        "id": "346bb310-17f8-47e1-b168-183181887d7d"
      },
      "source": [
        "# End-To-End Machine Learning Project"
      ]
    },
    {
      "cell_type": "markdown",
      "id": "0e8abdbc-cbe6-47e1-ae1a-465b2c34db10",
      "metadata": {
        "id": "0e8abdbc-cbe6-47e1-ae1a-465b2c34db10"
      },
      "source": [
        "## 1. Definition of End-To-End Machine Learning Project"
      ]
    },
    {
      "cell_type": "markdown",
      "id": "1b80fd16-6003-4334-b92b-229128fe44b1",
      "metadata": {
        "id": "1b80fd16-6003-4334-b92b-229128fe44b1"
      },
      "source": [
        "A term ***\"End-To-End \"*** refers to a complete process from beginning to end; in other words, this term refers to all the steps and procedures to complete the project from idea to implementation. \n",
        "\n",
        "A Machine learning *(ML)* is ***\"a subfield of artificial intelligence *(AI)* for the development and implementation of computer systems with the ability to learn and adapt from data using ***algorithms*** and ***statistical models*** to analyze and draw conclusions patterns without following explicit instructions \"***.\n",
        "\n",
        "The Artificial intelligence systems are used to *mimic* human perception and intelligence* to solve/achieve complex tasks.\n",
        "\n",
        "***Therefore it could be said that***:\\\n",
        "*The **machine learning project** starts with the **data** of the problem statement and ends the **semi-human-intelligence model** to solve and achieve the related problem and task*.\n",
        "\n",
        "\n",
        "To achieve the best goals of the machine learning project, a *systematic approach* must be followed to ensure that the ***checklist*** of the ML model building process has already been realized and fulfilled. This systematic approach of the checklist is called ***Machine Learning Life-Cycle***.\n"
      ]
    },
    {
      "cell_type": "markdown",
      "id": "1fed721b-5163-4233-bb13-14d14c6d015b",
      "metadata": {
        "id": "1fed721b-5163-4233-bb13-14d14c6d015b"
      },
      "source": [
        "## 2. Types of End-To-End Machine Learning Projects"
      ]
    },
    {
      "cell_type": "markdown",
      "id": "926ba851-cc77-4358-8518-b4dfc7e97f8d",
      "metadata": {
        "id": "926ba851-cc77-4358-8518-b4dfc7e97f8d"
      },
      "source": [
        "To determine the type of end-to-end machine learning project, the type/category of machine learning system used to realize this project should be identified.\\\n",
        "There are several ***criteria*** for classifying the type of ***machine learning system*** as follows:\n",
        "1. `IF` it <u>does</u> `OR` <u>does not</u> require ***Human Supervision/Intervention*** during the ***Modeling*** phase, `THEN` it is of the ***Supervised***, ***Unsupervised***, ****Semisupervised***, `OR` ***Reinforcement*** type.\n",
        "\n",
        "2. `IF` it <u>can</u> `OR` <u>can not</u> ***learn incrementally on the fly***, `THEN` there is the ***Offline/Batch*** `OR` ***Online*** type.\n",
        "\n",
        "3. `IF` the ***Learnability*** depends on the ***Comparison*** <u>principle</u> of the unknown patterns/instances with the known patterns/instances `OR` on the ***Modeling*** <u>principle</u> to accomplish the corresponding learning tasks,`THEN` there is the ***Instance-based*** `OR` ***Model-based*** type.\n",
        "\n",
        "These criteria can be taken together to classify a machine learning system like a ***spam filtering*** system, where this system can be classified as ***online, model-based, and supervised***."
      ]
    },
    {
      "cell_type": "markdown",
      "id": "b4505f3e-78ee-46ec-8c5f-55e406aef4aa",
      "metadata": {
        "id": "b4505f3e-78ee-46ec-8c5f-55e406aef4aa"
      },
      "source": [
        "### 2.1 Criterion of Human Supervision/Intervention "
      ]
    },
    {
      "cell_type": "markdown",
      "id": "0d504ccb-ca86-4f7e-b97f-96ca0e8cbff3",
      "metadata": {
        "id": "0d504ccb-ca86-4f7e-b97f-96ca0e8cbff3"
      },
      "source": [
        "In general, the ***task*** of the machine learning system is to `map\\relate` the input space, i.e., the ***data space***, to the output space, i.e., the ***target space***, in order to achieve the related tasks such as prediction.\n",
        "\n",
        "Although a machine learning system can be understood as a *computer program without being explicitly programmed*, this computer program *necessarily* needs the ***instructions of the mapping*** to perform the corresponding tasks. These mapping instructions can be built by the ***Human Supervision/Intervention*** in the form of either ***<u>solution</u>*** `OR` ***<u>action</u>***. In the case of solution-based mapping instructions, the concepts ***Training*** and ***Labeling*** are used to realize this mapping process; where the ***Training concept*** must <u>necessarily</u> be applied, while the ***Labeling concept*** is applied ***<u>relatively</u>*** as in this scale:\n",
        "* `IF` Full application, `THEN` the type of the machine learning is ***Supervised***.\n",
        "* `IF` partial application, `THEN` the type of the machine learning is ***Semisupervised***.\n",
        "* `IF` Never applied, `THEN` the type of the machine learning is ***Unsupervised***.\n",
        "\n",
        "<img src=\"attachment:45d72e6a-48fd-48b6-9971-e2e0c856854b.png\"  width=\"60%\" height=\"60%\">\\\n",
        "Fig 1 Labeling concept in the Supervised, Unsupervised and Semisupervised Tpyes\n",
        "\n",
        "The assignment of labels is realized by the ***Annotation*** procedure.\n",
        "\n",
        "<img src=\"attachment:1c1fb981-3f0d-43bd-ab14-8752bcd820c6.png\"  width=\"60%\" height=\"60%\">\\\n",
        "Fig 2 Annotation procedure of the considered data"
      ]
    },
    {
      "cell_type": "markdown",
      "id": "8ca17b02-91f7-4b2e-8b98-c90739bf21cc",
      "metadata": {
        "id": "8ca17b02-91f7-4b2e-8b98-c90739bf21cc"
      },
      "source": [
        "In the ***Action*** form of mapping instructions, the learning system is viewed as an ***Agent*** that necessarily requires a ***Policy*** to perform the appropriate tasks.  This policy is based on the ***Penalty-Reward*** principle in the action with the considered ***Environment***; <u>Penalty and Reward is for a negative and positive action, respectively</u>. In this case thetype of the machine learning is **Reinforcement*** "
      ]
    },
    {
      "cell_type": "markdown",
      "id": "03515d66-a3f6-4710-b717-825a22355825",
      "metadata": {
        "id": "03515d66-a3f6-4710-b717-825a22355825"
      },
      "source": [
        "### 2.2 Criterion of Incrementally on the Fly"
      ]
    },
    {
      "cell_type": "markdown",
      "id": "f1dc966b-a5f3-4eae-8d33-0195b6cf99c2",
      "metadata": {
        "id": "f1dc966b-a5f3-4eae-8d33-0195b6cf99c2"
      },
      "source": [
        "In the context of this criterion, the following question should be answered:\n",
        "***Can a machine learning system learn incrementally from a stream of incoming data?***\n",
        "\n",
        "\n",
        "1. In case of a `\"Yes\"` answer, <u>THEN</u> the type of machine learning system is ***online*** and this learning is ***incremental***, where the system is sequentially fed with the training data on the fly, either ***individually*** or ***in small groups, called mini-batches***, so that this system is able to learn from the new data. <u>Therefore, the resulting model can be updated incrementally for each new mini-batch data<u/>.\n",
        "\n",
        "2. In case of answer `\"NO\"`, <u>THEN</u> the type of machine learning system is ***Batch*** and this learning is ***Batch***, where the system must be trained with all available data. <u> Therefore, a new model is created for each batch without considering the previous ones <u/>.\n"
      ]
    },
    {
      "cell_type": "markdown",
      "id": "992217df-0ddb-46e7-ac6e-6a3007a43367",
      "metadata": {
        "id": "992217df-0ddb-46e7-ac6e-6a3007a43367"
      },
      "source": [
        "### 2.3 Criterion of Learnability Principle"
      ]
    },
    {
      "cell_type": "markdown",
      "id": "ab6098d4-326c-4e3c-86c5-74627bc20dd0",
      "metadata": {
        "id": "ab6098d4-326c-4e3c-86c5-74627bc20dd0"
      },
      "source": [
        "This criterion provides the general framework for answering the question of how the machine learning system should learn from data.\n",
        "The possible pronciples for learning capability could be as follows \n",
        "\n",
        "1. `IF` the system learns the samples/instances of the training dataset by building a ***Similarity Measurement***, `THEN` the type of this machine learning is\\\n",
        "***Instance-based learning***; this measurement is used to classify/predict the new sample.\n",
        "\n",
        "2. `IF` the system learns the samples/instances of the training dataset by building a ***Mathematical or Statistical Model***. `THEN` the type of this machine learning is ***Model-based learning***; this model is used to classify/predict the new sample."
      ]
    },
    {
      "cell_type": "markdown",
      "id": "91b83dfa-826a-4930-bd70-e90751559a17",
      "metadata": {
        "id": "91b83dfa-826a-4930-bd70-e90751559a17"
      },
      "source": [
        "## 3. Machine Learning (ML) Terminology"
      ]
    },
    {
      "cell_type": "markdown",
      "id": "2171d958-f1e7-4b79-a0f9-fa30b2d3a14c",
      "metadata": {
        "id": "2171d958-f1e7-4b79-a0f9-fa30b2d3a14c"
      },
      "source": [
        "In this chapter, the terminology of machine learning is introduced in general. This introduction gives a general overview of the terms used in the machine learning world. Of course, each term has a deep and broad world that is beyond the scope of this tutorial."
      ]
    },
    {
      "cell_type": "markdown",
      "id": "162773cd-d17b-4ea8-8bec-42eb7599d540",
      "metadata": {
        "id": "162773cd-d17b-4ea8-8bec-42eb7599d540"
      },
      "source": [
        "### 3.1 ML Dataset\n",
        "Machine learning is characterized as a `practical tool/framework` of ***statistical learning theory***, which is statistics and functional analysis to find/create a predictive function, which is a model to draw conclusions from the considered <u>***`Dataset`***<u/> to achieve the related successes such as classification, prediction, etc.\n",
        "\n",
        "\n"
      ]
    },
    {
      "cell_type": "markdown",
      "id": "b5292e0e-f9d3-4886-8c54-94eb84ae6fa2",
      "metadata": {
        "id": "b5292e0e-f9d3-4886-8c54-94eb84ae6fa2"
      },
      "source": [
        "### 3.1.1 Definition"
      ]
    },
    {
      "cell_type": "markdown",
      "id": "9f12c39c-2e98-4f62-9286-ee37c28df400",
      "metadata": {
        "id": "9f12c39c-2e98-4f62-9286-ee37c28df400"
      },
      "source": [
        "The ***dataset*** can be defined as follows:\\\n",
        "*\"A collection of related sets of information consisting of individual elements but capable of being processed by a computer as a unit.\"*\\\n",
        "In the context of machine learning, the dataset is the framework from which learning can be done to perform the related tasks (see Fig 5).\n",
        "\n",
        "The common types of dataset are\n",
        "1. Text data\n",
        "2. Image data\n",
        "3. Audio data\n",
        "4. Video data\n",
        "5. Numeric data\n",
        "\n",
        "\n",
        "\n",
        "In general, for computer and related manipulation and analysis softwares, the dataset is considered and stored as a matrix: \n",
        "* Its ***Rows***: `Records`, `Samples`, `Instances`, or `Observations` captured about the use case/problem statement.\n",
        "* Its ***columns***: `'Variables/Attributes'`, i.e., characteristics (such as name, age, pressure, etc.) of the input space, and characteristics of the output space such as (patient or non-patient), which are measured for each observation and may vary from one observation to another.\n",
        "\n",
        "The variable or attribute of the output space is referred to as ***target***, which is the historical data used to learn patterns and discover relationships between other features in the input space of the data set and the target feature in the output space, which is the final output to be predicted, during ***Modeling Phase*** of the machine learning system.\n",
        "\n",
        "<u> It is important to note that the variables/attributes of the dataset are referred to as \"***Features***\" when ***they are coupled by their measurements*** <u/>.\n"
      ]
    },
    {
      "cell_type": "markdown",
      "id": "e74cb2f4-f6e7-4bfa-9be0-99e63690d9a1",
      "metadata": {
        "id": "e74cb2f4-f6e7-4bfa-9be0-99e63690d9a1"
      },
      "source": [
        "### 3.1.2 Splitting of the original dataset into Training, Validation and Testing (Holdout) sub-datasets"
      ]
    },
    {
      "cell_type": "markdown",
      "id": "9345faec-aa58-4413-9510-9f315dbfc8d1",
      "metadata": {
        "id": "9345faec-aa58-4413-9510-9f315dbfc8d1"
      },
      "source": [
        "The presence of the dataset is the basic and necessary \"if and only if\" condition for the completion of the machine learning process; however, using the entire original dataset could lead to the following problems:\n",
        "\n",
        "1. Overfitting: the desired algorithm/model works very well during the modeling phase by mapping the input domain (features) to the output domain (targets); however, this performance is not achieved in the production phase, i.e., the mapping process of the input/features and output/target domains will fail when this model is applied to the unknown data. This model is very complex and follows the relevant and irrelevant relationships within the dataset.\n",
        "2. Underfitting: the desired model would not work well in either the modeling or production phases. This model is very simple and follows the easy relationships within the dataset.\n",
        "\n",
        "The machine learning modeling aims to create a ***\"Good Fit/Robust\"*** model that maps the most correct and relevant relationships in the dataset and is also ***robust*** to noise relationships; it is also able to achieve the mapping process of input-output domains for any dataset generated from the same source as the modeling phase dataset \n",
        "\n",
        "For this reason, the ***Splitting*** of the original dataset must be done in such a way that the following partial data sets are created:\n",
        "1. Training dataset:          it is used to design the model.\n",
        "2. Validation dataset:        it is used to refine the model.\n",
        "3. Testing (Hodlout) dataset: it is used to test the model\n",
        "\n",
        "The Splitting techniques are as follows:\n",
        "1. Fixed proportion: \n",
        "It returns a selected percentages of the entire data for training, valdiation and testing (Holdout) (60%, 20%, and 20%), respectively \n",
        "\n",
        "2. Cross Validation:\n",
        "This technique aims to divide the original dataset into K distinct subsets, called folds, with K-1 folds for training and validation and one fold for testing. The training, validation and testing process is repeated `K` times, with the roles of each fold being exchanged between these processes at each iteration \n",
        "\n",
        "The cross validation technique can be:\n",
        "* K-fold\n",
        "* Repeated K-Fold\n",
        "* Leave One Out (LOO)\n",
        "* Leave P Out (LPO)\n",
        "* Random permutations cross-validation a.k.a. Shuffle & Split\n",
        "* Stratified k-fold\n",
        "* Stratified Shuffle Split\n",
        "* Group k-fold\n",
        "* etc."
      ]
    },
    {
      "cell_type": "markdown",
      "id": "4cd03d8a-ea83-4411-8f85-8afc23321919",
      "metadata": {
        "id": "4cd03d8a-ea83-4411-8f85-8afc23321919"
      },
      "source": [
        "### 3.2 ML Algorithm and Model"
      ]
    },
    {
      "cell_type": "markdown",
      "id": "0b591f63-49bf-48bb-94f6-788998396310",
      "metadata": {
        "id": "0b591f63-49bf-48bb-94f6-788998396310"
      },
      "source": [
        "In the machine learning it is very important to distinguish between two terms, namely ***Algorithm*** and ***Model***."
      ]
    },
    {
      "cell_type": "markdown",
      "id": "c5fc0be7-dffd-4116-b07d-437a6daae4b6",
      "metadata": {
        "id": "c5fc0be7-dffd-4116-b07d-437a6daae4b6"
      },
      "source": [
        "### 3.2.1 Defintions"
      ]
    },
    {
      "cell_type": "markdown",
      "id": "224ae88e-2dc3-4703-99cb-21f67f4ec2df",
      "metadata": {
        "id": "224ae88e-2dc3-4703-99cb-21f67f4ec2df"
      },
      "source": [
        "*A machine learning **algorithim** is like a procedure run on data to find patterns and rules which are stored in and used to create a machine learning **model** which is like a program that can be used to make predictions.*\n",
        "\n",
        "The `machine learning algorithm` can be mathematically defined as a statistical, correlative, mapping, and approximation tool. \n",
        "A Training/learning means adjusting and readjusting the parameters of this tool as much as possible to obtain the best representation of the considered input-output/features-target spaces.\n",
        "The combination of ***`Predictive algorithm`***, which is composed of the machine learning algorithm and the correlation rules of the input-output spaces, and the ***related trained Parameters*** forms a `Machine Learning Model` \n",
        "\n",
        "For example, in the case of the ***linear regression system***, the algorithm and the model are as follows:\n",
        "1. `Algorithm`: it is about finding a set of (Minus-Or-Plus Sign) coefficients that minimizes the error in the training dataset and. \n",
        "2. `Model`: it is the vector of coefficients as the trained parameters and the predictive algorithm is the linear combination of the summation (\\$\\sum$) of the multiplication (of the coefficients and the features/attributes) of the new sample to generate the corresponding numerical target of the output space.\n",
        "\n",
        "In the machine learning landscape, there are two types of parameters as follows: \n",
        "1. ***Learning Parameter***, *also known as `Hyperparameters`*:\n",
        "It is of the learning algorithm, not of the model.\n",
        "\n",
        "2. ***Model Parameter***, *shortly `Parameters`*:\n",
        "It is a configuration variable internal to the model, whose value can be estimated from data.\n",
        "\n"
      ]
    },
    {
      "cell_type": "markdown",
      "id": "811d642d-6cd8-4fb5-90a5-eb2ce1742213",
      "metadata": {
        "id": "811d642d-6cd8-4fb5-90a5-eb2ce1742213"
      },
      "source": [
        "### 3.2.2 Performance and Evaluation"
      ]
    },
    {
      "cell_type": "markdown",
      "id": "955934a2-94b8-466e-97db-d3a09e77b93c",
      "metadata": {
        "id": "955934a2-94b8-466e-97db-d3a09e77b93c"
      },
      "source": [
        "By splitting the raw/original dataset into subsets for training, validation and testing, the problems of overfitting and underfitting could be  usually avoided (see Section 3.1.2 and Fig 9); however, these problems can be also occured during the learning phase of the ML algorithm using the training and validation subsets.\\\n",
        "The terms ***overfitting*** and ***underfitting*** should be understood in the context of the ***Complexity of the intended model*** and the  ***`Errors`*** of ***Generalization/Test/Out-Of-Sample***, ***Bias***, ***Variance***, ***Irreducible*** and ***Training***  as follows (see Fig 14):\n",
        "1. Complexity of ML Model:\n",
        "   * Defiention:\\\n",
        "     *Model complexity is a measure of how accurately a machine learning model can predict unseen data, as well as how much data the model needs to see in order to make good predictions*.\n",
        "   * Importance:\\\n",
        "   it is very imporatnt keyword/concept to answer on `how generalizable a model is; namely, how well the model can be used to make predictions on new, unseen data.` \n",
        "2. Generalization/Test Error/Out-Of-Sample error:\n",
        "   * Definition:\\\n",
        "   `A Generalization error is an error (difference between actual and predicted values) that results from applying the designed model to the previously unseen data set`.\n",
        "   * Components:\\\n",
        "   The components of generalization error are as follows:\n",
        "     1) Bias:\\\n",
        "     *It is a type of error that occurs due to incorrect assumptions made during the training of the learning algorithm (e.g., assuming that the data are linear; however, in reality they are quadratic); this error could be defined as the difference between the predicted values and the actual or expected values during the prediction of the new data.*\n",
        "     2) Variance:\\\n",
        "     *It is a type of error caused by the sensitivity of a model to small variations in the training set to indicate the amount of variance in the prediction when different training data are used during the training phase.*\n",
        "     \n",
        "     3) Irreducible Error:\\\n",
        "     This type will always be present in the model due to the noise of the data itself.\n",
        "3. Training Error:\\\n",
        "This type can be estimated by calculating the amount of deviation between the actual and predicted values when the designed model is used to predict the data set used to train it.\\\n",
        "As shown in Fig. 14, simple models and a large amount of data cause the generalization and training errors to be more or less similar; with more complex models and fewer examples, the training error is expected to decrease, but the generalization gap increases, this behaviour will generate the ***Overfitting*** probelm.\n",
        "\n",
        "\n",
        "The four different Combinations of Bias-Variance could created as follows:\n",
        "1. Low-Bias, Low-Variance:\\\n",
        "it is  an ideal machine learning model. However, it is not possible practically.\n",
        "2. Low-Bias, High-Variance:\\\n",
        "its model predictions are inconsistent and accurate on average. This combination apperas when  the large number of parameters is used during the learning phase. This combination leads to the ***Overfitting*** problem.\n",
        "3. High-Bias, Low-Variance:\\\n",
        "its predictions are consistent but inaccurate on average. This combination occurs uses few numbers of the parameter. It leads to ***Underfitting*** problem. \n",
        "4. High-Bias, High-Variance:\\\n",
        "its predictions are inconsistent and also inaccurate on average.\\\n",
        "\n",
        "`Since bias and variance are` ***`reducible`*** `errors, it is important to pay attention to bias and variance when building the machine learning model to avoid over-fitting or under-fitting the model. If the model is very simple and has few parameters, it may have low variance and high bias. On the other hand, if the model has a large number of parameters, it will have a high variance and a low bias. Thus, it is necessary to balance between bias and variance errors, and this balance between bias and variance errors is called` <u>***`bias-variance trade-off`***<u/>`.\n",
        "\n",
        "In order to achieve the ***Bias-Variance Trade-off*** (green rectangle in Fig 13) the following technqiues can be applied during the building phase of the ML model:\n",
        "1. Data augmentation\n",
        "2. Data Splitting\n",
        "3. Feature selection\n",
        "4. Regularization\n",
        "5. Ensembling\n",
        "6. Early stopping "
      ]
    },
    {
      "cell_type": "markdown",
      "id": "14e21549-e2ee-489b-bc76-c18cb1c5d920",
      "metadata": {
        "id": "14e21549-e2ee-489b-bc76-c18cb1c5d920"
      },
      "source": [
        "Comparing the performance of different possible models to select the best model to achieve the desired goals of the machine learning system is called ***Model Selection***. The model selection phase can be performed using comparison metrics known as ***Evaluation Metrics***. The evaluation metrics for classification learning task are as follows:\n",
        "1. Confusion Matrix:\\\n",
        "A ***Confusion Matrix*** is used to represent the performance of the machine learning model on classification tasks, especially binary classification. The term \"confusion\" means for which class the model was not able to correctly distinguish.\n",
        "For binary classification tasks, this evaluation matrix is a square matrix.\n",
        "\n",
        "The elements of the binary confusion matrix are:\n",
        "1. Rows are the real/actual classes of the samples of the considered dataset.\n",
        "2. Columns are the predicted classes (prediction results of the used machine learning model) of the samples of the considered dataset.\n",
        "\n",
        "The Terminology of the binary confusion matrix is:\n",
        "* True: it indicates  a “Matching” case of the actual and predicated classes \n",
        "* False: it indicates  a “Mismatching” case of the actual and predicated classes\n",
        "* True Positive (*TP*): How many times a model correctly classifies a positive sample as Positive?\n",
        "* False Negative (*FN*): How many times a model incorrectly classifies a positive sample as Negative?\n",
        "* False Positive (*FP*): How many times a model incorrectly classifies a negative sample as Positive?\n",
        "* True Negative (*TN*): How many times a model correctly classifies a negative sample as Negative?\n",
        "\n",
        "The confusion matrix can be also applied in the case of the multiclass tasks.\n",
        "\n",
        "2. Accuracy:\\\n",
        "An ***Accuracy*** is answer of the following question/evaluation issue:\\\n",
        "`How correct generally is the machine learning model for the corresponding classification tasks?`\\\n",
        "The accuracy of the confusion matrix can be calculated by using this formal:\n",
        "\\begin{equation}\n",
        "Accuracy=\\frac{TP+TN}{TP+FN+TN+FP}\n",
        "\\end{equation}\\\n",
        "The ***Accuracy*** is used *when the True Positives and True Negatives are more important*; `it is a better metric for Balanced Data`.\n",
        "\n",
        "3. Precision:\\\n",
        "A ***Precision*** is answer of the following question/evaluation issue:\\\n",
        "`How reliable is the machine learning model at predicting a specific category/class?`\\\n",
        "The precision of the confusion matrix can be calculated by using this formal:\n",
        "\\begin{equation}\n",
        "Precision=\\frac{TP}{TP+FP}\n",
        "\\end{equation}\\\n",
        "The ***Precision*** is a useful metric in cases (spam detection, music recommendation, or recommendation systems), where FP is a higher concern than FN, `in other words, whenever False Positive is much more important use Precision.`\n",
        "\n",
        "4. Recall/Sensitivity/True Positive Rate (TPR):\\\n",
        "A ***Recall*** is answer of the following question/evaluation issue:\\\n",
        "`How ability is the machine learning model at predicting a specific category/class?`\\\n",
        "The recall of the confusion matrix can be calculated by using this formal:\n",
        "\\begin{equation}\n",
        "Recall=\\frac{TP}{TP+FN}\n",
        "\\end{equation}\\\n",
        "The ***Recall*** is a useful metric in cases (e.g. medical, security, or more careful about the decision making process), where the capturing as many positives as possible should be reached, `in other words, whenever False Negative is much more important use Recall`.`\n",
        "\n",
        "5. F1 Score:\\\n",
        "A F1 Score is harmonic mean of the precision and recall as in the following formal:\n",
        "\\begin{equation}\n",
        "F1 Score=2*\\frac{precision*recall}{precision+recall}=\\frac{TP}{TP+\\frac{FN+FP}{2}}\n",
        "\\end{equation}\n",
        "The F1 Score is used, where the precision-recall trade-off/balance should be achieved, because in these cases there no clear decision, which is important precision or recall. \n",
        "The ***F1-Score*** is used `when the False Negatives and False Positives are important`. <u>The F1-Score is a better metric for Imbalanced Data.<u/>\n",
        "\n",
        "6. Specificity/True Negative Rate (TNR):\\\n",
        "A specificity/TNR is the ration of the negative samples/instances that are correctly classified and predicated as negative.\n",
        "The specificity of the confusion matrix can be calculated by using this formal:\n",
        "\\begin{equation}\n",
        "Specificity=\\frac{TN}{TN+FP}=1-False Positive Rate (FPR)\n",
        "\\end{equation}\n",
        "\n",
        "7. AUC-ROC (Area under Curve (AUC) -Receiver-Operating characteristic (ROC)):\\\n",
        "A ***ROC*** shows the tradeoff between ***sensitivity (TPR)*** and ***specificity (1 - FPR)** to compare the performance of machine learning models. If the ROC of the model is ***closer*** to the ***upper left corner***, `it means better performance`, as shown in Fig 16.\n",
        "\n",
        "\n",
        "The diagonal dashed line in Fig 16 is considered the ***baseline***, i.e., the simplest machine learning algorithm that provides predictions without   complex calculations, and represents the algorithm's performance with 50%, since FPR = TPR.\n",
        "\n",
        "`Whenever the degree of curvature of the ROC is greater than 45 degrees, this indicates better performance of the model`.\\\n",
        "\n",
        "\n"
      ]
    },
    {
      "cell_type": "markdown",
      "id": "5a360b58-f9ed-4808-9353-c0862eb9e243",
      "metadata": {
        "id": "5a360b58-f9ed-4808-9353-c0862eb9e243"
      },
      "source": [
        "### 3.3 ML Tasks and related ML Algorithms"
      ]
    },
    {
      "cell_type": "markdown",
      "id": "437231ba-d8fe-4d80-903b-1a622d9b8068",
      "metadata": {
        "id": "437231ba-d8fe-4d80-903b-1a622d9b8068"
      },
      "source": [
        "### 3.3.1 Classification"
      ]
    },
    {
      "cell_type": "markdown",
      "id": "8a56a013-d66b-4927-80fa-c73fb42170f0",
      "metadata": {
        "id": "8a56a013-d66b-4927-80fa-c73fb42170f0"
      },
      "source": [
        "A Classification is <u>supervised learning<u/> task that involves predicting a class label.\n",
        "\n",
        "*The output is the answer if the input instance belongs to a specific class (Yes/No), or to select one from a finite number of choices*.\\\n",
        "A classification is a supervised learning task that involves a prediction-based selection process of a class/label of the output/label space. This classification task can be ***Binary*** (if the size of the output space =2) or ***Multi*** (if the size of the output space >=3).\\\n",
        "Fig 18 shows the classification of Emails as binary class task (left) and classification of the digit image into 10 classes (from 0 to 9) as multiclass task (right).\n",
        "    \n",
        "<img src=\"attachment:cc5992cf-1ef2-41ba-a293-accd51717ef1.png\"  width=\"80%\" height=\"80%\">\\\n",
        "Fig 18 Classification of Emails as binary class task (left) and classification of the digit image as multiclass task (right)\n",
        "\n",
        "Examples of classification algorithms: \n",
        "* K-Nearest Neighbors\n",
        "* Decision Trees\n",
        "* Random Forest\n",
        "* Support Vector Machine\n",
        "* Neural Networks\n",
        "* etc.\n"
      ]
    },
    {
      "cell_type": "markdown",
      "id": "cecb9f71-60e3-4f8e-8ce1-7fc706ababd1",
      "metadata": {
        "id": "cecb9f71-60e3-4f8e-8ce1-7fc706ababd1"
      },
      "source": [
        "### 3.3.2 Regression"
      ]
    },
    {
      "cell_type": "markdown",
      "id": "46e3ca22-22e0-48fd-8a06-114df85fca7f",
      "metadata": {
        "id": "46e3ca22-22e0-48fd-8a06-114df85fca7f"
      },
      "source": [
        "Regression is a <u>supervised learning<u/> task that involves predicting a label in the output space as numerical/continuous target.\n",
        "    \n",
        "In the regression task the output of the machine learning is the model as liner/nonlinear combinations of the features/attributes -, so-called predictors such (mileage, age, brand, etc.)), of the input space as prediction of the numerical/continuous target/label in the output space, e.g.:\\\n",
        "\\begin{equation}  \n",
        "    y= ±a*x_1  ± b*x_2 ± c*x_3 ±⋯;\n",
        "\\end{equation}\n",
        "where:  \n",
        "$y$= car price, $x_1$=mileage, $x_2$=brand, $x_3$=age, $...$\\\n",
        "$a, b, c, ...$ are coefficients.\n",
        "\n",
        "Examples of regression algorithms:\n",
        "* Linear Regression\n",
        "* Polynomial Regression\n",
        "* Exponential Regression\n",
        "* Logistic Regression\n",
        "* etc.\n",
        "    \n",
        "`It is important to know that some regression algorithms can be used for classification as well, and vice versa. For example, Logistic Regression is commonly used for classification, since its output value corresponds to the probability of belonging to a given class (e.g., 20% chance of being banana)`.\n"
      ]
    },
    {
      "cell_type": "markdown",
      "id": "a5ef4208-cde2-4ad2-beff-3ff96a51f7c1",
      "metadata": {
        "id": "a5ef4208-cde2-4ad2-beff-3ff96a51f7c1"
      },
      "source": [
        "### 3.3.3 Clustering"
      ]
    },
    {
      "cell_type": "markdown",
      "id": "5254f1bf-2971-471a-9aee-d6acbac0e306",
      "metadata": {
        "id": "5254f1bf-2971-471a-9aee-d6acbac0e306"
      },
      "source": [
        "This unsupervised task sorts the inherent groupings in the data to ***clusters***.\\\n",
        "<img src=\"attachment:1b4b7df7-068d-4b94-9f71-515975fed41b.png\"  width=\"75%\" height=\"75%\">\\\n",
        "Fig 19 Clustering task\n",
        "\n",
        "Examples of clustering algorithms:\n",
        "* Hierarchical\n",
        "* K-means\n",
        "* DBSCAN\n",
        "* Gaussian Mixture Model\n",
        "* etc.\n"
      ]
    },
    {
      "cell_type": "markdown",
      "id": "7ebc2bff-4114-4352-9174-8ba98b028e13",
      "metadata": {
        "id": "7ebc2bff-4114-4352-9174-8ba98b028e13"
      },
      "source": [
        "### 3.3.4 Anomaly Detection"
      ]
    },
    {
      "cell_type": "markdown",
      "id": "03c93268-8f0f-4683-b836-4376f36b92ec",
      "metadata": {
        "id": "03c93268-8f0f-4683-b836-4376f36b92ec"
      },
      "source": [
        "An **Anomaly detection**, also known as `outlier detection`, is the `process of identifying unexpected items or events in data sets, which differ from the norm` (as illustrated in Fig 20).\n",
        "\n",
        "<img src=\"attachment:1f5a8c4a-b16e-4726-b928-af0728bb9059.png\"  width=\"80%\" height=\"80%\">\\\n",
        "Fig 20 Anomaly detection examples\n",
        "\n",
        "Examples of anomaly detection algorithms:\n",
        "* Bayesian Gaussian Mixture Models\n",
        "* Principle Components Analysis (PCA)\n",
        "* Fast-Minimum Covariance Determinant\n",
        "* One-class SVM\n",
        "* Isolation Forest\n",
        "* Local Outlier Factor (LOF)\n"
      ]
    },
    {
      "cell_type": "markdown",
      "id": "8c5dea16-2ce0-49b3-bf7b-1689aac5159b",
      "metadata": {
        "id": "8c5dea16-2ce0-49b3-bf7b-1689aac5159b"
      },
      "source": [
        "### 3.3.5 Association Rule Learning"
      ]
    },
    {
      "cell_type": "markdown",
      "id": "0227175b-2658-411c-ab08-5f3ee343be1c",
      "metadata": {
        "id": "0227175b-2658-411c-ab08-5f3ee343be1c"
      },
      "source": [
        "An **Association Rule Learning** problem is where is needed want to discover rules that describe large portions of the considered data, such as people that buy X also tend to buy Y. The associations are relationships between objects. The idea behind association rule mining is to determine rules that can allow identifying which objects may be related to a set of objects. In the association rule mining terminology, each object is defined as individual item.\n",
        "\n",
        "A common example for association rule mining is basket analysis \n",
        "\n",
        "A shopper puts items from a store into a basket. Once there are some items in the basket, it is possible to recommend associated items that are available in the store to the shopper.\n",
        "\n",
        "Examples of association algorithms:\n",
        "* Apriori Algorithm\n",
        "* Eclat Algorithm\n",
        "* F-P Growth Algorithm\n"
      ]
    },
    {
      "cell_type": "markdown",
      "id": "3afc384e-d635-4a85-97c0-9d08f5cbc60b",
      "metadata": {
        "id": "3afc384e-d635-4a85-97c0-9d08f5cbc60b"
      },
      "source": [
        "## 4. ML-Libraries, Distribution, Platform and Develpment Environment"
      ]
    },
    {
      "cell_type": "markdown",
      "id": "b27cdd9b-eef8-4efe-b63b-e1b0ac65044e",
      "metadata": {
        "id": "b27cdd9b-eef8-4efe-b63b-e1b0ac65044e"
      },
      "source": [
        "Since ***Python*** is the best programming language in the machine learning landscape, all related ML libraries, platforms and distributions are presented in this chapter in the context of this language."
      ]
    },
    {
      "cell_type": "markdown",
      "id": "5e4f5f1d-8f29-4b5c-96f7-3c64010b6704",
      "metadata": {
        "id": "5e4f5f1d-8f29-4b5c-96f7-3c64010b6704"
      },
      "source": [
        "### 4.4.1 Libraries"
      ]
    },
    {
      "cell_type": "markdown",
      "id": "c9da3c9e-7726-4a81-b27d-b78c9f489b42",
      "metadata": {
        "id": "c9da3c9e-7726-4a81-b27d-b78c9f489b42"
      },
      "source": [
        "1. ***P***ython ***Da***ta ***Ana***lysi***s*** Library (Panadas):\\\n",
        "*\"pandas is a fast, powerful, flexible and easy to use open source **data analysis** and **manipulation tool**,\n",
        "built on top of the Python programming language.\"*(https://pandas.pydata.org/)\n",
        "\n",
        "<img src=\"attachment:1d746ff4-466b-4e38-a9bf-73ef8901bb87.png\"  width=\"80%\" height=\"80%\">\\\n",
        "Fig 22 Logo of Pandas Librar"
      ]
    },
    {
      "cell_type": "markdown",
      "id": "84d9f986-8111-4a57-8821-f862fcb5b2f5",
      "metadata": {
        "id": "84d9f986-8111-4a57-8821-f862fcb5b2f5"
      },
      "source": [
        "2. ***Num***erical ***Py***thon (NumPy)\\\n",
        "*\"NumPy is the fundamental package for scientific computing in Python. It is a Python library that provides a multidimensional array object, various derived objects (such as masked arrays and matrices), and an assortment of routines for fast operations on arrays, including mathematical, logical, shape manipulation, sorting, selecting, I/O, discrete Fourier transforms, basic linear algebra, basic statistical operations, random simulation and much more.\"* (https://numpy.org/doc/stable/)\n",
        "\n",
        "<img src=\"attachment:2eff51d2-3077-430e-9fdc-8dd0f5d33125.png\"  width=\"80%\" height=\"80%\">\\\n",
        "Fig 23 Logo of NumPy Librar"
      ]
    },
    {
      "cell_type": "markdown",
      "id": "08ba5db1-01ba-4c56-8cc9-6d73708987e3",
      "metadata": {
        "id": "08ba5db1-01ba-4c56-8cc9-6d73708987e3"
      },
      "source": [
        "3. ***MAT**lab-style ***Plot*** **Lib***rary (Matplotlib)\\\n",
        "*\"Matplotlib is a comprehensive library for creating static, animated, and interactive visualizations in Python. Matplotlib makes easy things easy and hard things possible\"*. (https://matplotlib.org/)\n",
        "\n",
        "<img src=\"attachment:48ecaded-d30f-4975-87d5-f30a7ec33276.png\"  width=\"80%\" height=\"80%\">\\\n",
        "Fig 24 Logo of MatPlotLib Librar"
      ]
    },
    {
      "cell_type": "markdown",
      "id": "821fd5c0-40c8-49c7-8a50-d81899f29961",
      "metadata": {
        "id": "821fd5c0-40c8-49c7-8a50-d81899f29961"
      },
      "source": [
        "3. Seaborn: statistical data visualization\\\n",
        "*\"Seaborn is a Python data visualization library based on matplotlib. It provides a high-level interface for drawing attractive and informative statistical graphics\"*. (https://seaborn.pydata.org/)\n",
        "\n",
        "<img src=\"attachment:2762972e-845a-4303-a221-67b225df2395.png\"  width=\"80%\" height=\"80%\">\\\n",
        "Fig 25 Logo of Seaborn Librar"
      ]
    },
    {
      "cell_type": "markdown",
      "id": "15dc3c24-b1e3-43e3-bd70-a2890b217a06",
      "metadata": {
        "id": "15dc3c24-b1e3-43e3-bd70-a2890b217a06"
      },
      "source": [
        "4. Scikit-learn (Sklearn):\\\n",
        "\"Scikit-learn is an open source data analysis library, and the gold standard for Machine Learning (ML) in the Python ecosystem.\"(https://scikit-learn.org/stable/)\n",
        "<img src=\"attachment:2016033d-8898-48de-a2a0-09cd2aed105d.png\"  width=\"80%\" height=\"80%\">\\\n",
        "Fig 26 Logo of Scikit-Learn Librar"
      ]
    },
    {
      "cell_type": "markdown",
      "id": "f9b90af1-1504-4fd4-9063-f034111f2e14",
      "metadata": {
        "id": "f9b90af1-1504-4fd4-9063-f034111f2e14"
      },
      "source": [
        "5. Keras:\\\n",
        "\"*Keras (***Deep learning for humans***) is an API designed for human beings, not machines. Keras follows best practices for reducing cognitive load: it offers consistent & simple APIs, it minimizes the number of user actions required for common use cases, and it provides clear & actionable error messages. It also has extensive documentation and developer guides.*\"(https://keras.io/)\n",
        "\n",
        "<img src=\"attachment:f1cae2ac-350e-47ff-a1db-245a640f9aa6.png\"  width=\"80%\" height=\"80%\">\\\n",
        "Fig 27 Logo of Keras"
      ]
    },
    {
      "cell_type": "markdown",
      "id": "b3d8ae60-0127-4fb1-a665-6db98b3d562d",
      "metadata": {
        "id": "b3d8ae60-0127-4fb1-a665-6db98b3d562d"
      },
      "source": [
        "### 4.4.2 Distribution, Platform  and Development Environment"
      ]
    },
    {
      "cell_type": "markdown",
      "id": "09e00b82-c0a4-4bed-a376-b4e7b713c0dc",
      "metadata": {
        "id": "09e00b82-c0a4-4bed-a376-b4e7b713c0dc"
      },
      "source": [
        "1. *\"Anaconda is a distribution of the Python and R programming languages for scientific computing (data science, `machine learning applications`, large-scale data processing, predictive analytics, etc.), that aims to simplify package management and deployment.\"* (https://www.anaconda.com/products/distribution)\n",
        "<img src=\"attachment:0fa061b9-178e-4af6-ad2b-2084a1a0139a.png\"  width=\"80%\" height=\"50%\">\\\n",
        "Fig 28 Logo of Anaconda Distribution\n",
        "\n",
        "For \"Getting started with **Annconda Navigator**\": (https://docs.anaconda.com/navigator/getting-started/)\n",
        "\n",
        "<img src=\"attachment:81268b4f-369c-406a-bb95-d48ebb5935f7.png\"  width=\"80%\" height=\"80%\">\\\n",
        "Fig 29 Home Page of Anaconda Navigator\n",
        "\n",
        "2. *\"The Jupyter Notebook is a web-based interactive computing platform. The notebook combines live code, equations, narrative text, visualizations, interactive dashboards and other media.\"* (https://jupyter.org/)\n",
        "\n",
        "<img src=\"attachment:b57588ff-ad44-42d6-bf91-ad00d2e46c1f.png\" width=\"60%\" height=\"60%\">\\\n",
        "Fig 30 Logos of JupyterLab and Jupyter Notebook in the Home Page of Anaconda Navigator\n",
        "\n",
        "For \"Getting started with **Jupyter Notebook**\": (https://kiran-parte.github.io/aiforall/blog-post-2.html)\n",
        "\n",
        "3. *\"Spyder is a free and open source scientific environment written in Python, for Python, and designed by and for scientists, engineers and data analysts. It features a unique combination of the advanced editing, analysis, debugging, and profiling functionality of a comprehensive development tool with the data exploration, interactive execution, deep inspection, and beautiful visualization capabilities of a scientific package.\"* (https://www.spyder-ide.org/)\n",
        "\n",
        "<img src=\"attachment:961ecaeb-d328-4e64-ba8b-c3b7b65c1977.png\" width=\"50%\" height=\"40%\">\\\n",
        "Fig 31 Logo of Spyder in the Home Page of Anaconda Navigator\n",
        "\n",
        "<img src=\"attachment:af42e70a-5532-4e32-92c8-9af63b8e3886.png\" width=\"60%\" height=\"60%\">\\\n",
        "Fig 32 Logo of Spyder and its related GUI\n",
        "\n",
        "4. *\"Orange Data Mining is Open source machine learning and data visualization. Build data analysis workflows visually, with a large, diverse toolbox\"*. (https://orangedatamining.com/)\n",
        "\n",
        "<img src=\"attachment:13a2d184-fb0c-439f-b474-909b1f75b833.png\" width=\"50%\" height=\"40%\">\\\n",
        "\n",
        "Fig 33 Logo of Orange Data Mining in the Home Page of Anaconda Navigator\n",
        "\n",
        "<img src=\"attachment:755b3551-87ef-4c6b-87dd-f87de20ab283.png\" width=\"50%\" height=\"40%\">\\\n",
        "\n",
        "Fig 34 Logo of Orange Data Mining\n",
        "\n",
        "For \"Getting started with **Orange Data Mining**\": (https://orange3.readthedocs.io/projects/orange-visual-programming/en/latest/index.html)"
      ]
    },
    {
      "cell_type": "markdown",
      "id": "015aa291-c837-4022-82b9-f246f52ccd36",
      "metadata": {
        "id": "015aa291-c837-4022-82b9-f246f52ccd36"
      },
      "source": [
        "## 5. Life-Cycle of End-To-End Machine Learning Project"
      ]
    },
    {
      "cell_type": "markdown",
      "id": "7e1588f6-37d0-499d-92a9-7beb0593e0a0",
      "metadata": {
        "id": "7e1588f6-37d0-499d-92a9-7beb0593e0a0"
      },
      "source": [
        "A Fig 35 shows the steps and processes of the Life-Cycle of End-To-End Machine Learning Project.\n",
        "\n",
        "This lifecycle is an iterative, systematic approach with multiple steps/processes for building and executing the machine learning project."
      ]
    }
  ],
  "metadata": {
    "kernelspec": {
      "display_name": "Python 3 (ipykernel)",
      "language": "python",
      "name": "python3"
    },
    "language_info": {
      "codemirror_mode": {
        "name": "ipython",
        "version": 3
      },
      "file_extension": ".py",
      "mimetype": "text/x-python",
      "name": "python",
      "nbconvert_exporter": "python",
      "pygments_lexer": "ipython3",
      "version": "3.9.15"
    },
    "colab": {
      "provenance": []
    }
  },
  "nbformat": 4,
  "nbformat_minor": 5
}